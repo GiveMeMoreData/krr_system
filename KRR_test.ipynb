{
 "cells": [
  {
   "cell_type": "code",
   "execution_count": null,
   "id": "ef7ec631-1c0a-4d75-91a6-7c8bac685a22",
   "metadata": {},
   "outputs": [],
   "source": [
    "class Observable:\n",
    "    \n",
    "    def __init__(self):\n",
    "        pass"
   ]
  },
  {
   "cell_type": "code",
   "execution_count": 366,
   "id": "0c8faadf-7fca-4445-a6d9-50b01bc8c850",
   "metadata": {},
   "outputs": [],
   "source": [
    "from typing import List, Callable\n",
    "\n",
    "class Fluent:\n",
    "    def __init__(self, **fluents):\n",
    "        for name, value in fluents.items():\n",
    "            assert(isinstance(name, str))\n",
    "            assert(isinstance(value, bool))\n",
    "            self.name = name\n",
    "            self.value = value\n",
    "            break # only the first value is processed\n",
    "        \n",
    "    # for if statements\n",
    "    def __bool__(self):\n",
    "        return self.value\n",
    "    \n",
    "    # for ==, != comparisons\n",
    "    def __eq__(self, other):\n",
    "        if isinstance(other, bool):\n",
    "            return self.value == other\n",
    "        elif isinstance(other, Fluent):\n",
    "            return (self.value == other.value) and (self.name == other.name)\n",
    "        else:\n",
    "            return False\n",
    "        \n",
    "    def release(self):\n",
    "        self.value != self.value\n",
    "        \n",
    "    def positive(self):\n",
    "        self.value = True\n",
    "    \n",
    "    def negative(self):\n",
    "        self.value = False\n",
    "    \n",
    "    def __repr__(self):\n",
    "        return f\"{self.name}={self.value}\"\n",
    "       \n",
    "class Action:\n",
    "    \n",
    "    def __init__(self, name):\n",
    "        self.name: str = name\n",
    "        self.causes: Fluent\n",
    "        self.conditions: List[Fluent] = list()\n",
    "            \n",
    "            \n",
    "            \n",
    "        \n",
    "class Model:\n",
    "    \n",
    "    def __init__(self):\n",
    "        \n",
    "        self.fluents: Dict[str, Fluent] = dict()\n",
    "        self._causes: Dict[str, List[Callable]] = dict()\n",
    "    \n",
    "    def __repr__(self):\n",
    "        fluents = \"\\nFLUENTS\\n\"+\"\\n\".join(map(str, self.fluents.values()))\n",
    "#         causes =  \"\\n\\nCAUSES\\n\"+\"\\n\".join(map(str, self._causes.keys()))\n",
    "        return fluents\n",
    "\n",
    "    \n",
    "    def _set(self, fluents: Fluent):\n",
    "        if isinstance(fluents, List):\n",
    "            for fluent in fluents:\n",
    "                self.fluents[fluent.name] = fluent\n",
    "            return\n",
    "        \n",
    "        self.fluents[fluents.name] = fluents\n",
    "        \n",
    "    def _check(self, conditions: List[Fluent]) -> bool:\n",
    "        if conditions is None:\n",
    "            return True\n",
    "        \n",
    "        for f in conditions:\n",
    "            if f.name not in self.fluents:\n",
    "                # at least one state not defined\n",
    "#                 print(f\"{f.name} not in {self.fluents.keys()}\")\n",
    "                return False\n",
    "            \n",
    "            if f != self.fluents[f.name]:\n",
    "                # at least one state not satified\n",
    "#                 print(f\"{f} != {self.fluents[f.name]}\")\n",
    "                return False\n",
    "        return True\n",
    "    \n",
    "    def _do_causes(self, method_name):\n",
    "        for f in self._causes[method_name]:\n",
    "            f(self)\n",
    "    \n",
    "    def _add_causes(self, method_name: str, f: Callable):\n",
    "        if method_name not in self._causes:\n",
    "            self._causes[method_name] = []\n",
    "            setattr(self.__class__, method_name, lambda x: x._do_causes(method_name))\n",
    "        \n",
    "        self._causes[method_name].append(f)\n",
    "    \n",
    "    def initially(self, **kwargs):\n",
    "        for key, value in kwargs.items():\n",
    "            self.fluents[key] = Fluent(**{key:value})\n",
    "        \n",
    "            \n",
    "    def causes(self, action: str, fluents: List[Fluent], conditions: List[Fluent] = None):\n",
    "        if isinstance(fluents, Fluent):\n",
    "            fluents = [fluents]\n",
    "        if isinstance(conditions, Fluent):\n",
    "            conditions = [conditions]\n",
    "        \n",
    "        self._add_causes(action, lambda x: x._set(fluents) if x._check(conditions) else None)\n",
    "    "
   ]
  },
  {
   "cell_type": "code",
   "execution_count": 296,
   "id": "970258cd-b55f-4923-9290-ac9fb5e4dc4c",
   "metadata": {},
   "outputs": [],
   "source": [
    "f1 = Fluent(key=False)\n",
    "f2 = Fluent(loaded = False)\n",
    "f3 = Fluent(key=False)\n",
    "f4 = Fluent(key=True)"
   ]
  },
  {
   "cell_type": "code",
   "execution_count": 133,
   "id": "399e1f45-7a66-4a8e-b304-48cb146fd73f",
   "metadata": {},
   "outputs": [
    {
     "data": {
      "text/plain": [
       "True"
      ]
     },
     "execution_count": 133,
     "metadata": {},
     "output_type": "execute_result"
    }
   ],
   "source": [
    "f1 == False"
   ]
  },
  {
   "cell_type": "code",
   "execution_count": 134,
   "id": "90c0cda5-6d37-4079-b0af-df853255ac72",
   "metadata": {},
   "outputs": [
    {
     "data": {
      "text/plain": [
       "False"
      ]
     },
     "execution_count": 134,
     "metadata": {},
     "output_type": "execute_result"
    }
   ],
   "source": [
    "f1 == f2"
   ]
  },
  {
   "cell_type": "code",
   "execution_count": 5,
   "id": "9cb43a62-5d17-49ca-95bd-a2deb6b3a21e",
   "metadata": {},
   "outputs": [
    {
     "data": {
      "text/plain": [
       "True"
      ]
     },
     "execution_count": 5,
     "metadata": {},
     "output_type": "execute_result"
    }
   ],
   "source": [
    "f1 == f3"
   ]
  },
  {
   "cell_type": "code",
   "execution_count": 6,
   "id": "a53dc5eb-040d-470f-b99a-eb0743c32fd7",
   "metadata": {},
   "outputs": [
    {
     "data": {
      "text/plain": [
       "False"
      ]
     },
     "execution_count": 6,
     "metadata": {},
     "output_type": "execute_result"
    }
   ],
   "source": [
    "f1 == f4"
   ]
  },
  {
   "cell_type": "code",
   "execution_count": 7,
   "id": "0d898bd2-a88a-477a-93c0-89dd7a30cf93",
   "metadata": {},
   "outputs": [
    {
     "data": {
      "text/plain": [
       "False"
      ]
     },
     "execution_count": 7,
     "metadata": {},
     "output_type": "execute_result"
    }
   ],
   "source": [
    "f1 == 3"
   ]
  },
  {
   "cell_type": "code",
   "execution_count": 382,
   "id": "5f2d2fc7-3f08-4a5d-86ba-f277ebd13ba9",
   "metadata": {},
   "outputs": [],
   "source": [
    "m = Model()\n",
    "m.initially(loaded = False, alive = True)\n",
    "m.causes(\"load\", Fluent(loaded=True))\n",
    "m.causes(\"shoot\", Fluent(alive=False), conditions = Fluent(loaded = True))\n",
    "m.causes(\"shoot\", Fluent(loaded=False))"
   ]
  },
  {
   "cell_type": "code",
   "execution_count": 368,
   "id": "ed717b8e-873b-4e2d-b177-fe33c57e7f95",
   "metadata": {},
   "outputs": [
    {
     "data": {
      "text/plain": [
       "\n",
       "FLUENTS\n",
       "loaded=False\n",
       "alive=True"
      ]
     },
     "execution_count": 368,
     "metadata": {},
     "output_type": "execute_result"
    }
   ],
   "source": [
    "m"
   ]
  },
  {
   "cell_type": "code",
   "execution_count": 369,
   "id": "8a2d85a7-bfa7-40eb-bb1a-5368b8a20188",
   "metadata": {},
   "outputs": [],
   "source": [
    "m.shoot()"
   ]
  },
  {
   "cell_type": "code",
   "execution_count": 370,
   "id": "b8bfa96c-7684-4502-9666-6e22dfe7a335",
   "metadata": {},
   "outputs": [
    {
     "data": {
      "text/plain": [
       "\n",
       "FLUENTS\n",
       "loaded=False\n",
       "alive=True"
      ]
     },
     "execution_count": 370,
     "metadata": {},
     "output_type": "execute_result"
    }
   ],
   "source": [
    "m"
   ]
  },
  {
   "cell_type": "code",
   "execution_count": 372,
   "id": "efd8ed30-b555-4ac5-a7f4-2ea8241f927c",
   "metadata": {},
   "outputs": [],
   "source": [
    "m.load()"
   ]
  },
  {
   "cell_type": "code",
   "execution_count": 373,
   "id": "a9cac91f-8afd-4449-b462-6cd9a5f20ed0",
   "metadata": {},
   "outputs": [
    {
     "data": {
      "text/plain": [
       "\n",
       "FLUENTS\n",
       "loaded=True\n",
       "alive=True"
      ]
     },
     "execution_count": 373,
     "metadata": {},
     "output_type": "execute_result"
    }
   ],
   "source": [
    "m"
   ]
  },
  {
   "cell_type": "code",
   "execution_count": 374,
   "id": "52839dd3-e4c2-4372-ab51-6781121a8075",
   "metadata": {},
   "outputs": [],
   "source": [
    "m.shoot()"
   ]
  },
  {
   "cell_type": "code",
   "execution_count": 375,
   "id": "2a5c9409-8de6-4ff8-a974-45e99ef6d6ae",
   "metadata": {},
   "outputs": [
    {
     "data": {
      "text/plain": [
       "\n",
       "FLUENTS\n",
       "loaded=False\n",
       "alive=False"
      ]
     },
     "execution_count": 375,
     "metadata": {},
     "output_type": "execute_result"
    }
   ],
   "source": [
    "m"
   ]
  },
  {
   "cell_type": "code",
   "execution_count": 362,
   "id": "effdaada-1ec6-4945-8738-1b25d1548dcc",
   "metadata": {},
   "outputs": [],
   "source": [
    "from copy import deepcopy\n",
    "\n",
    "class Statement:\n",
    "    def __init__(self, fluents: List[Fluent], actions: List[str]):\n",
    "        self.fluents = fluents\n",
    "        self.actions = actions\n",
    "        \n",
    "def call_method(o, name):\n",
    "    getattr(o, name)()\n",
    "\n",
    "class Structure:\n",
    "    \n",
    "    def __init__(self, model: Model):\n",
    "        self.model = deepcopy(model)\n",
    "\n",
    "    def is_statement_true(self, statement: Statement):\n",
    "        m = deepcopy(self.model)\n",
    "        \n",
    "        for action in statement.actions:\n",
    "            call_method(m, action)\n",
    "            \n",
    "        return m._check(statement.fluents)"
   ]
  },
  {
   "cell_type": "code",
   "execution_count": 379,
   "id": "dd66f2ce-7d90-4412-b070-fb63ebc66021",
   "metadata": {},
   "outputs": [],
   "source": [
    "statement_1 = Statement([Fluent(alive=False)], actions=[\"shoot\"])\n",
    "statement_2 = Statement([Fluent(alive=False)], actions=[\"load\", \"shoot\"])\n",
    "\n",
    "stru = Structure(model=m)"
   ]
  },
  {
   "cell_type": "code",
   "execution_count": 380,
   "id": "fb712dfa-9f71-411a-bd0f-74dc8aae7676",
   "metadata": {},
   "outputs": [
    {
     "data": {
      "text/plain": [
       "False"
      ]
     },
     "execution_count": 380,
     "metadata": {},
     "output_type": "execute_result"
    }
   ],
   "source": [
    "stru.is_statement_true(statement=statement_1)"
   ]
  },
  {
   "cell_type": "code",
   "execution_count": 381,
   "id": "4db03a47-2233-4d9f-ae9c-3b0d03e34805",
   "metadata": {},
   "outputs": [
    {
     "data": {
      "text/plain": [
       "True"
      ]
     },
     "execution_count": 381,
     "metadata": {},
     "output_type": "execute_result"
    }
   ],
   "source": [
    "stru.is_statement_true(statement=statement_2)"
   ]
  },
  {
   "cell_type": "code",
   "execution_count": null,
   "id": "97a625b9-fdcf-4b8d-b5d1-9869912e4071",
   "metadata": {},
   "outputs": [],
   "source": []
  }
 ],
 "metadata": {
  "kernelspec": {
   "display_name": "Python 3 (ipykernel)",
   "language": "python",
   "name": "python3"
  },
  "language_info": {
   "codemirror_mode": {
    "name": "ipython",
    "version": 3
   },
   "file_extension": ".py",
   "mimetype": "text/x-python",
   "name": "python",
   "nbconvert_exporter": "python",
   "pygments_lexer": "ipython3",
   "version": "3.9.6"
  }
 },
 "nbformat": 4,
 "nbformat_minor": 5
}
