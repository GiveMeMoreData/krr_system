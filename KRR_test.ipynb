{
 "cells": [
  {
   "cell_type": "code",
   "execution_count": 1,
   "id": "426ec3b5-d9cd-4633-b637-295024ee541e",
   "metadata": {
    "tags": []
   },
   "outputs": [],
   "source": [
    "# Mypy; for the `|` operator purpose\n",
    "# Remove this __future__ import once the oldest supported Python is 3.10\n",
    "from __future__ import annotations"
   ]
  },
  {
   "cell_type": "code",
   "execution_count": 2,
   "id": "10483639-3f24-4eba-aef7-6e87d9aa8eb4",
   "metadata": {
    "tags": []
   },
   "outputs": [],
   "source": [
    "from typing import List, Callable, Tuple\n",
    "from enum import Enum\n",
    "from copy import copy\n",
    "from copy import deepcopy"
   ]
  },
  {
   "cell_type": "code",
   "execution_count": 3,
   "id": "7943055f-d9d6-412a-bd21-5efe90369489",
   "metadata": {
    "tags": []
   },
   "outputs": [],
   "source": [
    "def fuzzy_not(o):\n",
    "    if o is None:\n",
    "        return o\n",
    "    return not o\n",
    "    \n",
    "def fuzzy_or(o1, o2):\n",
    "    if o1 is None or o2 is None:\n",
    "        return None\n",
    "    return o1 or o2\n",
    "    \n",
    "def fuzzy_and(o1, o2):\n",
    "    if o1 is False or o2 is False:\n",
    "        return False\n",
    "    if o1 is None or o2 is None:\n",
    "        return None\n",
    "    return True\n",
    "    \n",
    "def fuzzy_eq(o1, o2):\n",
    "    if o1 is None or o2 is None:\n",
    "        return None\n",
    "    return o1 == o2\n",
    "    "
   ]
  },
  {
   "cell_type": "code",
   "execution_count": 4,
   "id": "0c8faadf-7fca-4445-a6d9-50b01bc8c850",
   "metadata": {},
   "outputs": [],
   "source": [
    "class Fluent:\n",
    "    def __init__(self, **fluents):\n",
    "        for name, value in fluents.items():\n",
    "            assert (isinstance(name, str))\n",
    "            self.name = name\n",
    "            self.value = value\n",
    "            break  # only the first value is processed\n",
    "\n",
    "    # for if statements\n",
    "    def __bool__(self):\n",
    "        return self.value\n",
    "\n",
    "    # for ==, != comparisons\n",
    "    def __eq__(self, other):\n",
    "        if isinstance(other, bool) or other is None:\n",
    "            return fuzzy_eq(self.value, other)\n",
    "        elif isinstance(other, Fluent):\n",
    "            return fuzzy_and(fuzzy_eq(self.value, other.value), self.name == other.name)\n",
    "        else:\n",
    "            return False\n",
    "\n",
    "    def __repr__(self):\n",
    "        return f\"{self.name}={self.value}\"\n",
    "\n",
    "\n",
    "class DomainDescription:\n",
    "\n",
    "    def __init__(self):\n",
    "\n",
    "        self.fluents: Dict[str, Fluent] = dict()\n",
    "        self._causes: Dict[str, List[Tuple[List[Fluent], List[Fluent]]]] = dict()\n",
    "        self.actions: Dict[str, Action] = dict()\n",
    "        self.impossibles: Dict[str, List[List[Fluent]]] = dict()\n",
    "    \n",
    "    def state(self):\n",
    "        return [(f.name, f.value) for f in self.fluents.values()]\n",
    "        \n",
    "    def __repr__(self):\n",
    "        fluents = \"\\nFLUENTS\\n\" + \"\\n\".join(map(str, self.fluents.values()))\n",
    "        #         causes =  \"\\n\\nCAUSES\\n\"+\"\\n\".join(map(str, self._causes.keys()))\n",
    "        return fluents\n",
    "\n",
    "    def _check_if_known(self, fluents: List[Fluent], default_value = None):\n",
    "        if isinstance(fluents, Fluent):\n",
    "            fluents = [fluents]\n",
    "        for fluent in fluents:\n",
    "            if fluent.name not in self.fluents:\n",
    "                assumed_fluent = copy(fluent)\n",
    "                assumed_fluent.value = default_value\n",
    "                self.fluents[fluent.name] = assumed_fluent\n",
    "                \n",
    "    def _set(self, fluents: Fluent):\n",
    "        if isinstance(fluents, Fluent):\n",
    "            fluents = [fluents]\n",
    "        for fluent in fluents:\n",
    "            self.fluents[fluent.name] = fluent\n",
    "\n",
    "    def _check(self, conditions: List[Fluent]) -> bool | None:\n",
    "        \"\"\"Checks a single list of fluent requirements\"\"\"\n",
    "        if conditions is None:\n",
    "            return True\n",
    "        \n",
    "        conditions_met = []\n",
    "        for f in conditions:\n",
    "            if f.name not in self.fluents:\n",
    "                return False # maybe should be None\n",
    "            \n",
    "            conditions_met.append(f == self.fluents[f.name])\n",
    "            \n",
    "            \n",
    "        if False in conditions_met:\n",
    "            return False\n",
    "        if None in conditions_met:\n",
    "            return None\n",
    "        return True\n",
    "    \n",
    "    def _possible(self, action: str) -> bool | None:\n",
    "        \"\"\"Checks a list of lists of fluent requirements\"\"\"\n",
    "        if action not in self.impossibles:\n",
    "            return True\n",
    "\n",
    "        conditions_met = [self._check(conditions) for conditions in self.impossibles[action]]\n",
    "            \n",
    "        if True in conditions_met:\n",
    "            return False\n",
    "        if None in conditions_met:\n",
    "            return None\n",
    "        return True\n",
    "        \n",
    "    def _do(self, fluents: List[Fluent], conditions_met, possible):\n",
    "        \"\"\"\n",
    "        Sets fluents to values specified in fluents variable if action possible and conditions_met\n",
    "        if condi\n",
    "        \"\"\"\n",
    "        # at this stage possible is either None or True\n",
    "        \n",
    "        if conditions_met is False:\n",
    "            return\n",
    "        \n",
    "        diff: List[Fluents] = []\n",
    "        for fluent in fluents:\n",
    "            # check the possible changes in fluents\n",
    "            if (self.fluents[fluent.name] == fluent) is not True: # so if any change happens\n",
    "                diff.append(fluent)\n",
    "                \n",
    "        if conditions_met is None or possible is None:\n",
    "            diff = [copy(f) for f in diff]\n",
    "            for fluent in diff:\n",
    "                fluent.value = None\n",
    "        self._set(diff)\n",
    "            \n",
    "    def do_action(self, action_name):\n",
    "        possible = self._possible(action_name)\n",
    "        # print(f\"{action_name=} {possible=}\")\n",
    "        if possible is False:\n",
    "            return\n",
    "        \n",
    "        for to_set, conditions in self._causes[action_name]:\n",
    "            self._do(to_set, self._check(conditions), possible)\n",
    "            \n",
    "    def _add_action(self, action_name: str, fluents: List[Fluent], conditions: List[Fluent]):\n",
    "        if action_name not in self._causes:\n",
    "            self._causes[action_name] = []\n",
    "            setattr(self.__class__, action_name, lambda x: x.do_action(action_name))\n",
    "\n",
    "        self._causes[action_name].append((fluents, conditions))\n",
    "        \n",
    "\n",
    "    def initially(self, **kwargs):\n",
    "        for key, value in kwargs.items():\n",
    "            self.fluents[key] = Fluent(**{key: value})\n",
    "\n",
    "    def impossible(self, action: str, conditions: List[Fluent]):\n",
    "        if isinstance(conditions, Fluent):\n",
    "            conditions = [conditions]\n",
    "        if action not in self.impossibles:\n",
    "            self.impossibles[action] = []\n",
    "\n",
    "        self.impossibles[action].append(conditions)\n",
    "\n",
    "    def causes(self, action: str, fluents: List[Fluent], conditions: List[Fluent] = None):\n",
    "        if isinstance(fluents, Fluent):\n",
    "            fluents = [fluents]\n",
    "        if isinstance(conditions, Fluent):\n",
    "            conditions = [conditions]\n",
    "\n",
    "        self._check_if_known(fluents)\n",
    "        self._add_action(action, fluents, conditions)\n",
    "\n",
    "    def releases(self, action: str,  fluents: List[Fluent]):\n",
    "        if isinstance(fluents, Fluent):\n",
    "            fluents = [fluents]\n",
    "\n",
    "        for fluent in fluents:\n",
    "            fluent.value = None\n",
    "\n",
    "        self._check_if_known(fluents)\n",
    "        self._add_action(action, fluents, None)\n",
    "\n",
    "class TimeDomainDescription(DomainDescription):\n",
    "    \n",
    "    def __init__(self):\n",
    "        super().__init__()\n",
    "        self.durations: Dict[str, int] = dict()\n",
    "        self.time = 1\n",
    "        self.termination_time = float('inf')\n",
    "        \n",
    "    def duration(self, action, time):\n",
    "        self.durations[action] = time\n",
    "        \n",
    "    def terminate_time(self, time):\n",
    "        # TODO make this useful\n",
    "        self.termination_time = time\n",
    "        \n",
    "    def make_time_step(self, action):\n",
    "        if action not in self.durations:\n",
    "            # maybe shoudl raise exception\n",
    "            self.time+=1\n",
    "            return\n",
    "        \n",
    "        self.time+=self.durations[action]        \n",
    "    \n",
    "    def _add_action(self, action_name: str, fluents: List[Fluent], conditions: List[Fluent]):\n",
    "        if action_name not in self._causes:\n",
    "            self._causes[action_name] = []\n",
    "            setattr(self.__class__, action_name, lambda x, time: x.do_action(action_name, time)) # added time to action execution\n",
    "\n",
    "        self._causes[action_name].append((fluents, conditions))\n",
    "        \n",
    "    def do_action(self, action_name, time_start) -> bool:\n",
    "        if time_start<self.time:\n",
    "            # maybe an exception?\n",
    "            return False\n",
    "        \n",
    "        possible = self._possible(action_name)\n",
    "        # print(f\"{action_name=} {possible=}\")\n",
    "        if possible is False:\n",
    "            return False\n",
    "        \n",
    "        self.make_time_step(action_name)\n",
    "        for to_set, conditions in self._causes[action_name]:\n",
    "            self._do(to_set, self._check(conditions), possible)\n",
    "        return True\n",
    "            "
   ]
  },
  {
   "cell_type": "code",
   "execution_count": 5,
   "id": "ab980694-13e7-4f99-98db-b85143c280e4",
   "metadata": {
    "tags": []
   },
   "outputs": [],
   "source": [
    "class Scenario:\n",
    "    \n",
    "    def __init__(self, domain: TimeDomainDescription, observations: List[Tuple[Fluent, int]], action_occurances: List[Tuple[str, int]]):\n",
    "        self.observations = observations\n",
    "        self.action_occurances = action_occurances\n",
    "        self.domain = deepcopy(domain)\n",
    "        \n",
    "        \n",
    "    def set_observations_as_true(self):\n",
    "        pass\n",
    "    \n",
    "    def is_consistent(self, verbose = False):\n",
    "        domain = deepcopy(self.domain)\n",
    "        for action, time in self.action_occurances:\n",
    "            if domain.do_action(action, time) is False:\n",
    "                if verbose:\n",
    "                    print(f\"Action {action} at time {time} breaks consistency\")\n",
    "                return False\n",
    "        return True"
   ]
  },
  {
   "cell_type": "code",
   "execution_count": 6,
   "id": "970258cd-b55f-4923-9290-ac9fb5e4dc4c",
   "metadata": {},
   "outputs": [],
   "source": [
    "f1 = Fluent(key=False)\n",
    "f2 = Fluent(loaded = False)\n",
    "f3 = Fluent(key=True)\n",
    "f4 = Fluent(key=False)"
   ]
  },
  {
   "cell_type": "code",
   "execution_count": 7,
   "id": "5f2d2fc7-3f08-4a5d-86ba-f277ebd13ba9",
   "metadata": {},
   "outputs": [],
   "source": [
    "m = DomainDescription()\n",
    "m.initially(alive=True, loaded=False)\n",
    "m.causes(\"load\", [Fluent(loaded= True), Fluent(jammed=False)])\n",
    "m.releases(\"load\", Fluent(hidden=False))\n",
    "m.causes(\"jam\", Fluent(jammed=True), conditions=Fluent(loaded=True))\n",
    "m.causes(\"shoot\", Fluent(alive=False), conditions=[Fluent(loaded=True), Fluent(hidden=False), Fluent(jammed=False)])\n",
    "m.causes(\"shoot\", [Fluent(loaded=False), Fluent(jammed=False)])"
   ]
  },
  {
   "cell_type": "code",
   "execution_count": 8,
   "id": "478e6f5f-c7c9-4c56-b3dd-ed852af6793c",
   "metadata": {
    "tags": []
   },
   "outputs": [
    {
     "data": {
      "text/plain": [
       "[('alive', True), ('loaded', False), ('jammed', None), ('hidden', None)]"
      ]
     },
     "execution_count": 8,
     "metadata": {},
     "output_type": "execute_result"
    }
   ],
   "source": [
    "m.state()"
   ]
  },
  {
   "cell_type": "code",
   "execution_count": 9,
   "id": "8a2d85a7-bfa7-40eb-bb1a-5368b8a20188",
   "metadata": {},
   "outputs": [
    {
     "data": {
      "text/plain": [
       "[('alive', True), ('loaded', False), ('jammed', False), ('hidden', None)]"
      ]
     },
     "execution_count": 9,
     "metadata": {},
     "output_type": "execute_result"
    }
   ],
   "source": [
    "m.shoot()\n",
    "m.state()"
   ]
  },
  {
   "cell_type": "code",
   "execution_count": 10,
   "id": "efd8ed30-b555-4ac5-a7f4-2ea8241f927c",
   "metadata": {},
   "outputs": [
    {
     "data": {
      "text/plain": [
       "[('alive', True), ('loaded', True), ('jammed', False), ('hidden', None)]"
      ]
     },
     "execution_count": 10,
     "metadata": {},
     "output_type": "execute_result"
    }
   ],
   "source": [
    "m.load()\n",
    "m.state()"
   ]
  },
  {
   "cell_type": "code",
   "execution_count": 11,
   "id": "52839dd3-e4c2-4372-ab51-6781121a8075",
   "metadata": {},
   "outputs": [
    {
     "data": {
      "text/plain": [
       "[('alive', None), ('loaded', False), ('jammed', False), ('hidden', None)]"
      ]
     },
     "execution_count": 11,
     "metadata": {},
     "output_type": "execute_result"
    }
   ],
   "source": [
    "m.shoot()\n",
    "m.state()"
   ]
  },
  {
   "cell_type": "markdown",
   "id": "387cf96a-fb6d-4fee-bb16-81bda7e76290",
   "metadata": {},
   "source": [
    "# Examples"
   ]
  },
  {
   "cell_type": "markdown",
   "id": "cea33e49-7bfe-4e69-8dca-deaa173f0a57",
   "metadata": {},
   "source": [
    "## Example 1"
   ]
  },
  {
   "cell_type": "markdown",
   "id": "d9441c2d-b667-4024-8715-cc6be702fae6",
   "metadata": {},
   "source": [
    "### Domain description"
   ]
  },
  {
   "cell_type": "code",
   "execution_count": 12,
   "id": "394d2ed6-96a0-42f3-b7d5-6104d4747148",
   "metadata": {
    "tags": []
   },
   "outputs": [],
   "source": [
    "m = TimeDomainDescription()\n",
    "m.initially(alive=True)\n",
    "m.causes(\"load\", [Fluent(loaded= True), Fluent(jammed=False)])\n",
    "m.releases(\"load\", Fluent(hidden=False))\n",
    "m.causes(\"jam\", Fluent(jammed=True), conditions=Fluent(loaded=True))\n",
    "m.causes(\"shoot\", Fluent(alive=False), conditions=[Fluent(loaded=True), Fluent(hidden=False), Fluent(jammed=False)])\n",
    "m.causes(\"shoot\", [Fluent(loaded=False), Fluent(jammed=False)])\n",
    "m.duration(\"load\", 2)\n",
    "m.duration(\"jam\", 1)\n",
    "m.duration(\"shoot\", 1)"
   ]
  },
  {
   "cell_type": "code",
   "execution_count": 13,
   "id": "65bccfac-73c2-4e5b-8481-bd97316ba60f",
   "metadata": {
    "tags": []
   },
   "outputs": [
    {
     "data": {
      "text/plain": [
       "[('alive', True), ('loaded', None), ('jammed', None), ('hidden', None)]"
      ]
     },
     "execution_count": 13,
     "metadata": {},
     "output_type": "execute_result"
    }
   ],
   "source": [
    "m.state()"
   ]
  },
  {
   "cell_type": "code",
   "execution_count": 14,
   "id": "a3de95ac-df2f-4b13-86f7-3101198d041b",
   "metadata": {
    "tags": []
   },
   "outputs": [
    {
     "data": {
      "text/plain": [
       "[('alive', True), ('loaded', True), ('jammed', False), ('hidden', None)]"
      ]
     },
     "execution_count": 14,
     "metadata": {},
     "output_type": "execute_result"
    }
   ],
   "source": [
    "m.do_action(\"load\", 1)\n",
    "m.state()"
   ]
  },
  {
   "cell_type": "code",
   "execution_count": 15,
   "id": "bf7c47cb-88e3-4c3e-adf6-ddb29f060765",
   "metadata": {
    "tags": []
   },
   "outputs": [
    {
     "data": {
      "text/plain": [
       "[('alive', True), ('loaded', True), ('jammed', False), ('hidden', None)]"
      ]
     },
     "execution_count": 15,
     "metadata": {},
     "output_type": "execute_result"
    }
   ],
   "source": [
    "m.do_action(\"load\", 2)\n",
    "m.state()"
   ]
  },
  {
   "cell_type": "code",
   "execution_count": 16,
   "id": "31102f76-4410-4839-a4a9-a77f2f4627b2",
   "metadata": {
    "tags": []
   },
   "outputs": [
    {
     "data": {
      "text/plain": [
       "[('alive', True), ('loaded', True), ('jammed', True), ('hidden', None)]"
      ]
     },
     "execution_count": 16,
     "metadata": {},
     "output_type": "execute_result"
    }
   ],
   "source": [
    "m.do_action(\"jam\", 3)\n",
    "m.state()"
   ]
  },
  {
   "cell_type": "code",
   "execution_count": 17,
   "id": "59eece35-6f5d-40a3-84cd-1b76f2045205",
   "metadata": {
    "tags": []
   },
   "outputs": [
    {
     "data": {
      "text/plain": [
       "[('alive', True), ('loaded', False), ('jammed', False), ('hidden', None)]"
      ]
     },
     "execution_count": 17,
     "metadata": {},
     "output_type": "execute_result"
    }
   ],
   "source": [
    "m.do_action(\"shoot\", 4)\n",
    "m.state()"
   ]
  },
  {
   "cell_type": "markdown",
   "id": "e838267a-c7dc-4c27-9226-42bc7d109467",
   "metadata": {},
   "source": [
    "### Scenario"
   ]
  },
  {
   "cell_type": "code",
   "execution_count": 18,
   "id": "23f6df87-c6ef-4c2b-9c6f-4d199c81c9a7",
   "metadata": {
    "tags": []
   },
   "outputs": [],
   "source": [
    "m = TimeDomainDescription()\n",
    "m.initially(alive=True)\n",
    "m.causes(\"load\", [Fluent(loaded= True), Fluent(jammed=False)])\n",
    "m.releases(\"load\", Fluent(hidden=False))\n",
    "m.causes(\"jam\", Fluent(jammed=True), conditions=Fluent(loaded=True))\n",
    "m.causes(\"shoot\", Fluent(alive=False), conditions=[Fluent(loaded=True), Fluent(hidden=False), Fluent(jammed=False)])\n",
    "m.causes(\"shoot\", [Fluent(loaded=False), Fluent(jammed=False)])\n",
    "m.duration(\"load\", 2)\n",
    "m.duration(\"jam\", 1)\n",
    "m.duration(\"shoot\", 1)"
   ]
  },
  {
   "cell_type": "code",
   "execution_count": 19,
   "id": "3f7d2a02-8b68-453a-ab5d-fd84fc096b06",
   "metadata": {
    "tags": []
   },
   "outputs": [],
   "source": [
    "OBS = ([Fluent(alive=True), Fluent(loaded=False), Fluent(jammed=True), Fluent(hidden=False)], 1)\n",
    "ACS = (('load', 1), (\"jam\", 3), (\"shoot\", 4))\n",
    "s = Scenario(domain=m, observations=OBS, action_occurances=ACS)"
   ]
  },
  {
   "cell_type": "code",
   "execution_count": 20,
   "id": "305d0945-d47e-4ef3-8fb6-e4bdc8c85c84",
   "metadata": {
    "tags": []
   },
   "outputs": [
    {
     "data": {
      "text/plain": [
       "True"
      ]
     },
     "execution_count": 20,
     "metadata": {},
     "output_type": "execute_result"
    }
   ],
   "source": [
    "s.is_consistent()"
   ]
  },
  {
   "cell_type": "markdown",
   "id": "0b63050e-22c2-4415-a309-06190ff3b779",
   "metadata": {},
   "source": [
    "## Example 2"
   ]
  },
  {
   "cell_type": "code",
   "execution_count": 21,
   "id": "e23bec07-1a26-4875-9401-ad39a61e98f9",
   "metadata": {
    "tags": []
   },
   "outputs": [],
   "source": [
    "m = TimeDomainDescription()\n",
    "m.initially(alive=True)\n",
    "m.causes(\"load\", [Fluent(loaded= True), Fluent(jammed=False)])\n",
    "m.releases(\"load\", Fluent(hidden=False))\n",
    "m.causes(\"jam\", Fluent(jammed=True), conditions=Fluent(loaded=True))\n",
    "m.causes(\"shoot\", Fluent(alive=False), conditions=[Fluent(loaded=True), Fluent(hidden=False), Fluent(jammed=False)])\n",
    "m.causes(\"shoot\", [Fluent(loaded=False), Fluent(jammed=False)])\n",
    "m.duration(\"load\", 2)\n",
    "m.duration(\"jam\", 1)\n",
    "m.duration(\"shoot\", 1)"
   ]
  },
  {
   "cell_type": "markdown",
   "id": "e39875f4-8163-4c42-a39b-2156b333010f",
   "metadata": {},
   "source": [
    "### Scenario"
   ]
  },
  {
   "cell_type": "code",
   "execution_count": 22,
   "id": "5f99dbe3-4a6f-4c84-9845-f1143d2d57af",
   "metadata": {
    "tags": []
   },
   "outputs": [],
   "source": [
    "OBS = ([Fluent(alive=True), Fluent(loaded=False), Fluent(jammed=True), Fluent(hidden=False)], 1)\n",
    "ACS = (('load', 1), (\"jam\", 2), (\"shoot\", 4))\n",
    "s = Scenario(domain=m, observations=OBS, action_occurances=ACS)"
   ]
  },
  {
   "cell_type": "code",
   "execution_count": 23,
   "id": "9d266554-5071-4e78-a009-188d1be382bd",
   "metadata": {
    "tags": []
   },
   "outputs": [
    {
     "name": "stdout",
     "output_type": "stream",
     "text": [
      "Action jam at time 2 breaks consistency\n"
     ]
    },
    {
     "data": {
      "text/plain": [
       "False"
      ]
     },
     "execution_count": 23,
     "metadata": {},
     "output_type": "execute_result"
    }
   ],
   "source": [
    "s.is_consistent(verbose=True)"
   ]
  },
  {
   "cell_type": "markdown",
   "id": "ef4a7525-3a97-437d-b017-218930fccaf9",
   "metadata": {},
   "source": [
    "## Example 3"
   ]
  },
  {
   "cell_type": "code",
   "execution_count": 24,
   "id": "808ffb04-2119-4353-b2c6-4c0b0658d550",
   "metadata": {
    "tags": []
   },
   "outputs": [],
   "source": [
    "d = TimeDomainDescription()\n",
    "d.initially(inspired=True, painted=False)\n",
    "d.causes(\"paint\", [Fluent(painted=True), Fluent(inspired=False)])\n",
    "d.impossible(\"paint\", conditions=Fluent(inspired=False))\n",
    "d.causes(\"pay\", Fluent(painted=False))\n",
    "d.impossible(\"pay\", conditions=Fluent(painted=False))\n",
    "d.releases(\"pay\", Fluent(inspired=False))\n",
    "d.duration(\"paint\", 2)\n",
    "d.duration(\"pay\", 1)"
   ]
  },
  {
   "cell_type": "markdown",
   "id": "483ec442-830b-48d2-815e-7385ba318006",
   "metadata": {},
   "source": [
    "### Scenario"
   ]
  },
  {
   "cell_type": "code",
   "execution_count": 25,
   "id": "bf769799-5fb6-44e3-bec4-b49285d2fe0c",
   "metadata": {
    "tags": []
   },
   "outputs": [],
   "source": [
    "OBS = ([Fluent(inspired=True), Fluent(painted=False)], 1)\n",
    "ACS = (('paint', 1), (\"pay\", 3), (\"pay\", 4), ('paint', 5))\n",
    "s = Scenario(domain=d, observations=OBS, action_occurances=ACS)"
   ]
  },
  {
   "cell_type": "code",
   "execution_count": 26,
   "id": "56589198-f16a-4e7e-b5cf-ce5edf6379e9",
   "metadata": {
    "tags": []
   },
   "outputs": [
    {
     "name": "stdout",
     "output_type": "stream",
     "text": [
      "Action pay at time 4 breaks consistency\n"
     ]
    },
    {
     "data": {
      "text/plain": [
       "False"
      ]
     },
     "execution_count": 26,
     "metadata": {},
     "output_type": "execute_result"
    }
   ],
   "source": [
    "s.is_consistent(verbose=True)"
   ]
  },
  {
   "cell_type": "code",
   "execution_count": 27,
   "id": "69811520-a58d-49d9-afae-9bfd819a1557",
   "metadata": {
    "tags": []
   },
   "outputs": [
    {
     "data": {
      "text/plain": [
       "[('inspired', False), ('painted', True)]"
      ]
     },
     "execution_count": 27,
     "metadata": {},
     "output_type": "execute_result"
    }
   ],
   "source": [
    "d.paint(2)\n",
    "d.state()"
   ]
  },
  {
   "cell_type": "code",
   "execution_count": 28,
   "id": "effdaada-1ec6-4945-8738-1b25d1548dcc",
   "metadata": {},
   "outputs": [],
   "source": [
    "\n",
    "class Statement:\n",
    "    def __init__(self, fluents: List[Fluent], actions: List[str]):\n",
    "        self.fluents = fluents\n",
    "        self.actions = actions\n",
    "        \n",
    "def call_method(o, name):\n",
    "    getattr(o, name)()\n",
    "\n",
    "class Structure:\n",
    "    \n",
    "    def __init__(self, model: DomainDescription):\n",
    "        self.model = deepcopy(model)\n",
    "\n",
    "    def is_statement_true(self, statement: Statement):\n",
    "        m = deepcopy(self.model)\n",
    "        \n",
    "        for action in statement.actions:\n",
    "            m.do_action(action)\n",
    "            \n",
    "        return m._check(statement.fluents)"
   ]
  },
  {
   "cell_type": "code",
   "execution_count": 29,
   "id": "84c5f6ac-4b7d-4605-9f5a-5deb4886bf97",
   "metadata": {
    "tags": []
   },
   "outputs": [],
   "source": [
    "d = DomainDescription()\n",
    "d.initially(alive=True, loaded=False, hidden=False)\n",
    "d.causes(\"load\", [Fluent(loaded= True), Fluent(jammed=False)])\n",
    "d.releases(\"load\", Fluent(hidden=False))\n",
    "d.causes(\"jam\", Fluent(jammed=True), conditions=Fluent(loaded=True))\n",
    "d.causes(\"shoot\", Fluent(alive=False), conditions=[Fluent(loaded=True), Fluent(hidden=False), Fluent(jammed=False)])\n",
    "d.causes(\"shoot\", [Fluent(loaded=False), Fluent(jammed=False)])\n",
    "d.causes(\"look\", Fluent(hidden=False), conditions=Fluent(alive=True))"
   ]
  },
  {
   "cell_type": "code",
   "execution_count": 30,
   "id": "dd66f2ce-7d90-4412-b070-fb63ebc66021",
   "metadata": {},
   "outputs": [],
   "source": [
    "statement_1 = Statement([Fluent(alive=False)], actions=[\"shoot\"])\n",
    "statement_2 = Statement([Fluent(alive=False)], actions=[\"load\", \"look\", \"shoot\"])\n",
    "\n",
    "stru = Structure(model=d)"
   ]
  },
  {
   "cell_type": "code",
   "execution_count": 31,
   "id": "fb712dfa-9f71-411a-bd0f-74dc8aae7676",
   "metadata": {},
   "outputs": [
    {
     "data": {
      "text/plain": [
       "False"
      ]
     },
     "execution_count": 31,
     "metadata": {},
     "output_type": "execute_result"
    }
   ],
   "source": [
    "stru.is_statement_true(statement=statement_1)"
   ]
  },
  {
   "cell_type": "code",
   "execution_count": 32,
   "id": "4db03a47-2233-4d9f-ae9c-3b0d03e34805",
   "metadata": {},
   "outputs": [
    {
     "data": {
      "text/plain": [
       "True"
      ]
     },
     "execution_count": 32,
     "metadata": {},
     "output_type": "execute_result"
    }
   ],
   "source": [
    "stru.is_statement_true(statement=statement_2)"
   ]
  }
 ],
 "metadata": {
  "kernelspec": {
   "display_name": "Python 3 (ipykernel)",
   "language": "python",
   "name": "python3"
  },
  "language_info": {
   "codemirror_mode": {
    "name": "ipython",
    "version": 3
   },
   "file_extension": ".py",
   "mimetype": "text/x-python",
   "name": "python",
   "nbconvert_exporter": "python",
   "pygments_lexer": "ipython3",
   "version": "3.9.13"
  }
 },
 "nbformat": 4,
 "nbformat_minor": 5
}
