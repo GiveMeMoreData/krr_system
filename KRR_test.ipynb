{
 "cells": [
  {
   "cell_type": "code",
   "execution_count": 1,
   "id": "48062d42-f04f-4d78-bbe1-3bcdaf073865",
   "metadata": {},
   "outputs": [],
   "source": [
    "from krr_system import TimeDomainDescription, DomainDescription, Fluent, Scenario, Statement, Structure\n",
    "from krr_system.examples import example1, example2, example3"
   ]
  },
  {
   "cell_type": "markdown",
   "id": "c3fdf5e8-4ba4-476c-8ed5-728b87403ad4",
   "metadata": {},
   "source": [
    "## Eample of manual setup of domain description"
   ]
  },
  {
   "cell_type": "code",
   "execution_count": 2,
   "id": "5f2d2fc7-3f08-4a5d-86ba-f277ebd13ba9",
   "metadata": {},
   "outputs": [],
   "source": [
    "m = DomainDescription()\n",
    "m.initially(alive=True, loaded=False)\n",
    "m.causes(\"load\", [Fluent(loaded= True), Fluent(jammed=False)])\n",
    "m.releases(\"load\", Fluent(hidden=False))\n",
    "m.causes(\"jam\", Fluent(jammed=True), conditions=Fluent(loaded=True))\n",
    "m.causes(\"shoot\", Fluent(alive=False), conditions=[Fluent(loaded=True), Fluent(hidden=False), Fluent(jammed=False)])\n",
    "m.causes(\"shoot\", [Fluent(loaded=False), Fluent(jammed=False)])"
   ]
  },
  {
   "cell_type": "code",
   "execution_count": 11,
   "id": "4d608fad-d979-494b-8d00-f604b7aed635",
   "metadata": {},
   "outputs": [
    {
     "data": {
      "text/plain": [
       "State\n",
       "{'alive': alive=True, 'loaded': loaded=False, 'jammed': jammed=None, 'hidden': hidden=None}\n",
       "\n",
       "ACTIONS\n",
       "Action: load\n",
       "     to set: [loaded=True, jammed=False]\n",
       "     to set: [hidden=None]\n",
       "Action: jam\n",
       "     to set: [jammed=True]\n",
       "          under conditions: [loaded=True]\n",
       "Action: shoot\n",
       "     to set: [alive=False]\n",
       "          under conditions: [loaded=True, hidden=False, jammed=False]\n",
       "     to set: [loaded=False, jammed=False]"
      ]
     },
     "execution_count": 11,
     "metadata": {},
     "output_type": "execute_result"
    }
   ],
   "source": [
    "m"
   ]
  },
  {
   "cell_type": "code",
   "execution_count": 12,
   "id": "478e6f5f-c7c9-4c56-b3dd-ed852af6793c",
   "metadata": {
    "tags": []
   },
   "outputs": [
    {
     "data": {
      "text/plain": [
       "[('alive', True), ('loaded', False), ('jammed', None), ('hidden', None)]"
      ]
     },
     "execution_count": 12,
     "metadata": {},
     "output_type": "execute_result"
    }
   ],
   "source": [
    "m.state()"
   ]
  },
  {
   "cell_type": "code",
   "execution_count": 13,
   "id": "8a2d85a7-bfa7-40eb-bb1a-5368b8a20188",
   "metadata": {},
   "outputs": [
    {
     "data": {
      "text/plain": [
       "[('alive', True), ('loaded', False), ('jammed', False), ('hidden', None)]"
      ]
     },
     "execution_count": 13,
     "metadata": {},
     "output_type": "execute_result"
    }
   ],
   "source": [
    "m.shoot()\n",
    "m.state()"
   ]
  },
  {
   "cell_type": "code",
   "execution_count": 14,
   "id": "efd8ed30-b555-4ac5-a7f4-2ea8241f927c",
   "metadata": {},
   "outputs": [
    {
     "data": {
      "text/plain": [
       "[('alive', True), ('loaded', True), ('jammed', False), ('hidden', None)]"
      ]
     },
     "execution_count": 14,
     "metadata": {},
     "output_type": "execute_result"
    }
   ],
   "source": [
    "m.load()\n",
    "m.state()"
   ]
  },
  {
   "cell_type": "code",
   "execution_count": 15,
   "id": "52839dd3-e4c2-4372-ab51-6781121a8075",
   "metadata": {},
   "outputs": [
    {
     "data": {
      "text/plain": [
       "[('alive', None), ('loaded', False), ('jammed', False), ('hidden', None)]"
      ]
     },
     "execution_count": 15,
     "metadata": {},
     "output_type": "execute_result"
    }
   ],
   "source": [
    "m.shoot()\n",
    "m.state()"
   ]
  },
  {
   "cell_type": "markdown",
   "id": "387cf96a-fb6d-4fee-bb16-81bda7e76290",
   "metadata": {},
   "source": [
    "# Examples"
   ]
  },
  {
   "cell_type": "markdown",
   "id": "cea33e49-7bfe-4e69-8dca-deaa173f0a57",
   "metadata": {},
   "source": [
    "## Example 1"
   ]
  },
  {
   "cell_type": "markdown",
   "id": "d9441c2d-b667-4024-8715-cc6be702fae6",
   "metadata": {},
   "source": [
    "### Domain description"
   ]
  },
  {
   "cell_type": "code",
   "execution_count": 4,
   "id": "394d2ed6-96a0-42f3-b7d5-6104d4747148",
   "metadata": {
    "tags": []
   },
   "outputs": [],
   "source": [
    "m = example1.copy()"
   ]
  },
  {
   "cell_type": "code",
   "execution_count": 5,
   "id": "3415832e",
   "metadata": {},
   "outputs": [
    {
     "name": "stdout",
     "output_type": "stream",
     "text": [
      "State\n",
      "{'alive': alive=True, 'loaded': loaded=None, 'jammed': jammed=None, 'hidden': hidden=None}\n",
      "\n",
      "ACTIONS\n",
      "Action:  load\n",
      "duration:  2\n",
      "     to set:  [loaded=True, jammed=False]\n",
      "     under conditions:  None\n",
      "     to set:  [hidden=None]\n",
      "     under conditions:  None\n",
      "Action:  jam\n",
      "duration:  1\n",
      "     to set:  [jammed=True]\n",
      "     under conditions:  [loaded=True]\n",
      "Action:  shoot\n",
      "duration:  1\n",
      "     to set:  [alive=False]\n",
      "     under conditions:  [loaded=True, hidden=False, jammed=False]\n",
      "     to set:  [loaded=False, jammed=False]\n",
      "     under conditions:  None\n"
     ]
    }
   ],
   "source": [
    "m.description()"
   ]
  },
  {
   "cell_type": "code",
   "execution_count": 8,
   "id": "65bccfac-73c2-4e5b-8481-bd97316ba60f",
   "metadata": {
    "tags": []
   },
   "outputs": [
    {
     "data": {
      "text/plain": [
       "[('alive', True), ('loaded', None), ('jammed', None), ('hidden', None)]"
      ]
     },
     "execution_count": 8,
     "metadata": {},
     "output_type": "execute_result"
    }
   ],
   "source": [
    "m.state()"
   ]
  },
  {
   "cell_type": "code",
   "execution_count": 9,
   "id": "a3de95ac-df2f-4b13-86f7-3101198d041b",
   "metadata": {
    "tags": []
   },
   "outputs": [
    {
     "data": {
      "text/plain": [
       "[('alive', True), ('loaded', True), ('jammed', False), ('hidden', None)]"
      ]
     },
     "execution_count": 9,
     "metadata": {},
     "output_type": "execute_result"
    }
   ],
   "source": [
    "m.load(1)\n",
    "m.state()"
   ]
  },
  {
   "cell_type": "code",
   "execution_count": 10,
   "id": "bf7c47cb-88e3-4c3e-adf6-ddb29f060765",
   "metadata": {
    "tags": []
   },
   "outputs": [
    {
     "data": {
      "text/plain": [
       "[('alive', True), ('loaded', True), ('jammed', False), ('hidden', None)]"
      ]
     },
     "execution_count": 10,
     "metadata": {},
     "output_type": "execute_result"
    }
   ],
   "source": [
    "m.load(2)\n",
    "m.state()"
   ]
  },
  {
   "cell_type": "code",
   "execution_count": 11,
   "id": "31102f76-4410-4839-a4a9-a77f2f4627b2",
   "metadata": {
    "tags": []
   },
   "outputs": [
    {
     "data": {
      "text/plain": [
       "[('alive', True), ('loaded', True), ('jammed', True), ('hidden', None)]"
      ]
     },
     "execution_count": 11,
     "metadata": {},
     "output_type": "execute_result"
    }
   ],
   "source": [
    "m.jam(3)\n",
    "m.state()"
   ]
  },
  {
   "cell_type": "code",
   "execution_count": 12,
   "id": "59eece35-6f5d-40a3-84cd-1b76f2045205",
   "metadata": {
    "tags": []
   },
   "outputs": [
    {
     "data": {
      "text/plain": [
       "[('alive', True), ('loaded', False), ('jammed', False), ('hidden', None)]"
      ]
     },
     "execution_count": 12,
     "metadata": {},
     "output_type": "execute_result"
    }
   ],
   "source": [
    "m.do_action(\"shoot\", 4)\n",
    "m.state()"
   ]
  },
  {
   "cell_type": "markdown",
   "id": "e838267a-c7dc-4c27-9226-42bc7d109467",
   "metadata": {},
   "source": [
    "### Scenario"
   ]
  },
  {
   "cell_type": "code",
   "execution_count": 13,
   "id": "3f7d2a02-8b68-453a-ab5d-fd84fc096b06",
   "metadata": {
    "tags": []
   },
   "outputs": [],
   "source": [
    "OBS = ([Fluent(alive=True), Fluent(loaded=False), Fluent(jammed=True), Fluent(hidden=False)], 1)\n",
    "ACS = (('load', 1), (\"jam\", 3), (\"shoot\", 4))\n",
    "s = Scenario(domain=example1.copy(), observations=OBS, action_occurances=ACS)"
   ]
  },
  {
   "cell_type": "code",
   "execution_count": 14,
   "id": "92cee5a0-ff10-43b5-8e8e-3880d934adb8",
   "metadata": {},
   "outputs": [
    {
     "name": "stdout",
     "output_type": "stream",
     "text": [
      "s.does_action_perform(\"jam\", 3)=True\n",
      "s.does_action_perform(\"jam\", 4)=False\n"
     ]
    }
   ],
   "source": [
    "print(f'{s.does_action_perform(\"jam\", 3)=}')\n",
    "print(f'{s.does_action_perform(\"jam\", 4)=}')"
   ]
  },
  {
   "cell_type": "code",
   "execution_count": 15,
   "id": "b8c21d15-770f-4876-ac24-f90e21648444",
   "metadata": {},
   "outputs": [
    {
     "name": "stdout",
     "output_type": "stream",
     "text": [
      "s.check_if_condition_hold(Fluent(loaded=True), 3)=True\n",
      "s.check_if_condition_hold(Fluent(loaded=True), 4)=False\n"
     ]
    }
   ],
   "source": [
    "print(f'{s.check_if_condition_hold(Fluent(loaded=True), 3)=}')\n",
    "print(f'{s.check_if_condition_hold(Fluent(loaded=True), 4)=}')"
   ]
  },
  {
   "cell_type": "markdown",
   "id": "0b63050e-22c2-4415-a309-06190ff3b779",
   "metadata": {},
   "source": [
    "## Example 2"
   ]
  },
  {
   "cell_type": "code",
   "execution_count": 16,
   "id": "e23bec07-1a26-4875-9401-ad39a61e98f9",
   "metadata": {
    "tags": []
   },
   "outputs": [],
   "source": [
    "m = example2.copy()"
   ]
  },
  {
   "cell_type": "markdown",
   "id": "e39875f4-8163-4c42-a39b-2156b333010f",
   "metadata": {},
   "source": [
    "### Scenario"
   ]
  },
  {
   "cell_type": "code",
   "execution_count": 17,
   "id": "5f99dbe3-4a6f-4c84-9845-f1143d2d57af",
   "metadata": {
    "tags": []
   },
   "outputs": [],
   "source": [
    "OBS = ([Fluent(alive=True), Fluent(loaded=False), Fluent(jammed=True), Fluent(hidden=False)], 1)\n",
    "ACS = (('load', 1), (\"jam\", 2), (\"shoot\", 4))\n",
    "s = Scenario(domain=m, observations=OBS, action_occurances=ACS)"
   ]
  },
  {
   "cell_type": "code",
   "execution_count": 18,
   "id": "9d266554-5071-4e78-a009-188d1be382bd",
   "metadata": {
    "tags": []
   },
   "outputs": [
    {
     "name": "stdout",
     "output_type": "stream",
     "text": [
      "Action jam at time 2 breaks consistency\n"
     ]
    },
    {
     "data": {
      "text/plain": [
       "False"
      ]
     },
     "execution_count": 18,
     "metadata": {},
     "output_type": "execute_result"
    }
   ],
   "source": [
    "s.is_consistent(verbose=True)"
   ]
  },
  {
   "cell_type": "markdown",
   "id": "ef4a7525-3a97-437d-b017-218930fccaf9",
   "metadata": {},
   "source": [
    "## Example 3"
   ]
  },
  {
   "cell_type": "code",
   "execution_count": 19,
   "id": "808ffb04-2119-4353-b2c6-4c0b0658d550",
   "metadata": {
    "tags": []
   },
   "outputs": [],
   "source": [
    "d = example3.copy()"
   ]
  },
  {
   "cell_type": "markdown",
   "id": "483ec442-830b-48d2-815e-7385ba318006",
   "metadata": {},
   "source": [
    "### Scenario"
   ]
  },
  {
   "cell_type": "code",
   "execution_count": 20,
   "id": "bf769799-5fb6-44e3-bec4-b49285d2fe0c",
   "metadata": {
    "tags": []
   },
   "outputs": [],
   "source": [
    "OBS = ([Fluent(inspired=True), Fluent(painted=False)], 1)\n",
    "ACS = (('paint', 1), (\"pay\", 3), (\"pay\", 4), ('paint', 5))\n",
    "s = Scenario(domain=d, observations=OBS, action_occurances=ACS)"
   ]
  },
  {
   "cell_type": "code",
   "execution_count": 21,
   "id": "56589198-f16a-4e7e-b5cf-ce5edf6379e9",
   "metadata": {
    "tags": []
   },
   "outputs": [
    {
     "name": "stdout",
     "output_type": "stream",
     "text": [
      "Action pay at time 4 breaks consistency\n"
     ]
    },
    {
     "data": {
      "text/plain": [
       "False"
      ]
     },
     "execution_count": 21,
     "metadata": {},
     "output_type": "execute_result"
    }
   ],
   "source": [
    "s.is_consistent(verbose=True)"
   ]
  },
  {
   "cell_type": "code",
   "execution_count": 22,
   "id": "69811520-a58d-49d9-afae-9bfd819a1557",
   "metadata": {
    "tags": []
   },
   "outputs": [
    {
     "data": {
      "text/plain": [
       "[('inspired', False), ('painted', True)]"
      ]
     },
     "execution_count": 22,
     "metadata": {},
     "output_type": "execute_result"
    }
   ],
   "source": [
    "d.paint(2)\n",
    "d.state()"
   ]
  },
  {
   "cell_type": "markdown",
   "id": "ec3de4d9-5aa3-4839-81b8-a3b9983f4a3e",
   "metadata": {},
   "source": [
    "## Statement test"
   ]
  },
  {
   "cell_type": "code",
   "execution_count": 23,
   "id": "84c5f6ac-4b7d-4605-9f5a-5deb4886bf97",
   "metadata": {
    "tags": []
   },
   "outputs": [],
   "source": [
    "d = DomainDescription()\n",
    "d.initially(alive=True, loaded=False, hidden=False)\n",
    "d.causes(\"load\", [Fluent(loaded= True), Fluent(jammed=False)])\n",
    "d.releases(\"load\", Fluent(hidden=False))\n",
    "d.causes(\"jam\", Fluent(jammed=True), conditions=Fluent(loaded=True))\n",
    "d.causes(\"shoot\", Fluent(alive=False), conditions=[Fluent(loaded=True), Fluent(hidden=False), Fluent(jammed=False)])\n",
    "d.causes(\"shoot\", [Fluent(loaded=False), Fluent(jammed=False)])\n",
    "d.causes(\"look\", Fluent(hidden=False), conditions=Fluent(alive=True))"
   ]
  },
  {
   "cell_type": "code",
   "execution_count": 24,
   "id": "dd66f2ce-7d90-4412-b070-fb63ebc66021",
   "metadata": {},
   "outputs": [],
   "source": [
    "statement_1 = Statement([Fluent(alive=False)], actions=[\"shoot\"])\n",
    "statement_2 = Statement([Fluent(alive=False)], actions=[\"load\", \"look\", \"shoot\"])\n",
    "\n",
    "stru = Structure(model=d)"
   ]
  },
  {
   "cell_type": "code",
   "execution_count": 25,
   "id": "fb712dfa-9f71-411a-bd0f-74dc8aae7676",
   "metadata": {},
   "outputs": [
    {
     "data": {
      "text/plain": [
       "False"
      ]
     },
     "execution_count": 25,
     "metadata": {},
     "output_type": "execute_result"
    }
   ],
   "source": [
    "stru.is_statement_true(statement=statement_1)"
   ]
  },
  {
   "cell_type": "code",
   "execution_count": 26,
   "id": "4db03a47-2233-4d9f-ae9c-3b0d03e34805",
   "metadata": {},
   "outputs": [
    {
     "data": {
      "text/plain": [
       "True"
      ]
     },
     "execution_count": 26,
     "metadata": {},
     "output_type": "execute_result"
    }
   ],
   "source": [
    "stru.is_statement_true(statement=statement_2)"
   ]
  }
 ],
 "metadata": {
  "kernelspec": {
   "display_name": "Python 3 (ipykernel)",
   "language": "python",
   "name": "python3"
  },
  "language_info": {
   "codemirror_mode": {
    "name": "ipython",
    "version": 3
   },
   "file_extension": ".py",
   "mimetype": "text/x-python",
   "name": "python",
   "nbconvert_exporter": "python",
   "pygments_lexer": "ipython3",
   "version": "3.9.6"
  }
 },
 "nbformat": 4,
 "nbformat_minor": 5
}
